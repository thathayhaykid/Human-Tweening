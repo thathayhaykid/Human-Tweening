{
 "cells": [
  {
   "cell_type": "markdown",
   "id": "b402585f-657f-46f0-a756-45bb440a04fd",
   "metadata": {
    "tags": []
   },
   "source": [
    "# Data Analysis and Neural Network Solving\n",
    "## By Hayhay\n",
    "\n",
    "In this document, we're going to explore the mouse data using matplotlib, to see what our inputs into our neural network is going to be, and then we are going to build our first neural network! yay!"
   ]
  },
  {
   "cell_type": "markdown",
   "id": "512fd665-8afb-473a-a8c5-a76b5f3d5c0d",
   "metadata": {
    "tags": []
   },
   "source": [
    "## Gathering things"
   ]
  },
  {
   "cell_type": "markdown",
   "id": "799dc3b8-fa02-47d4-b9d5-c8ec75d0ca06",
   "metadata": {
    "tags": []
   },
   "source": [
    "### Import Libraries"
   ]
  },
  {
   "cell_type": "code",
   "execution_count": 9,
   "id": "9c5a27fe-c0d2-45c2-929c-279a13846312",
   "metadata": {
    "tags": []
   },
   "outputs": [],
   "source": [
    "import json\n",
    "import matplotlib as mpl\n",
    "import pandas as pd"
   ]
  },
  {
   "cell_type": "markdown",
   "id": "54444f1f-e07e-4821-8ee1-463f1c7bfd32",
   "metadata": {
    "tags": []
   },
   "source": [
    "### Import the data"
   ]
  },
  {
   "cell_type": "code",
   "execution_count": 24,
   "id": "2d94fb25-c68f-4905-abbc-dc900384fa34",
   "metadata": {
    "tags": []
   },
   "outputs": [
    {
     "name": "stderr",
     "output_type": "stream",
     "text": [
      "IOPub data rate exceeded.\n",
      "The Jupyter server will temporarily stop sending output\n",
      "to the client in order to avoid crashing it.\n",
      "To change this limit, set the config variable\n",
      "`--ServerApp.iopub_data_rate_limit`.\n",
      "\n",
      "Current values:\n",
      "ServerApp.iopub_data_rate_limit=1000000.0 (bytes/sec)\n",
      "ServerApp.rate_limit_window=3.0 (secs)\n",
      "\n"
     ]
    }
   ],
   "source": [
    "filepath = '../deserialized_data.json'\n",
    "count = 0\n",
    "with open(filepath, 'r') as file:\n",
    "    data = json.load(file)\n",
    "    \n",
    "print(data)"
   ]
  },
  {
   "cell_type": "code",
   "execution_count": null,
   "id": "24f05578-2778-47fb-9cce-8462ad5e1d3e",
   "metadata": {},
   "outputs": [],
   "source": []
  }
 ],
 "metadata": {
  "kernelspec": {
   "display_name": "Python 3 (ipykernel)",
   "language": "python",
   "name": "python3"
  },
  "language_info": {
   "codemirror_mode": {
    "name": "ipython",
    "version": 3
   },
   "file_extension": ".py",
   "mimetype": "text/x-python",
   "name": "python",
   "nbconvert_exporter": "python",
   "pygments_lexer": "ipython3",
   "version": "3.11.7"
  }
 },
 "nbformat": 4,
 "nbformat_minor": 5
}
